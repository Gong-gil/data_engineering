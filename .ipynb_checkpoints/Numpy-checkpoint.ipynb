{
 "cells": [
  {
   "cell_type": "markdown",
   "id": "b60d4ec9",
   "metadata": {},
   "source": [
    "#### zeros() : 괄호 안에 입력된 숫자만큼의 원소를 생성하고 0으로 초기화"
   ]
  },
  {
   "cell_type": "code",
   "execution_count": 6,
   "id": "405f756f",
   "metadata": {},
   "outputs": [
    {
     "data": {
      "text/plain": [
       "array([0., 0., 0., 0., 0., 0., 0., 0., 0., 0.])"
      ]
     },
     "execution_count": 6,
     "metadata": {},
     "output_type": "execute_result"
    }
   ],
   "source": [
    "import numpy as np\n",
    "\n",
    "# y = np.zeros(shape=(10,), dtype=np.int8)\n",
    "#                     shape => 배열의 수 / n차열 배열을 지정할 수있다.\n",
    "#                     Dtype => 데이터타입을 정해줄 수있음\n",
    "\n",
    "y = np.zeros(10)\n",
    "y\n",
    "\n",
    "# x = np.array([1,2,3])\n",
    "# type(x)\n",
    "# x.shape\n"
   ]
  },
  {
   "cell_type": "markdown",
   "id": "de9d8e4a",
   "metadata": {},
   "source": [
    "##### 혹시라도 오류가 생기면 !pip install numpy  로 numpy를 설치해야한다."
   ]
  },
  {
   "cell_type": "markdown",
   "id": "b96407a0",
   "metadata": {},
   "source": [
    "#### mean() : 배열에 저장된 원소들의 평균값을 계산"
   ]
  },
  {
   "cell_type": "code",
   "execution_count": 12,
   "id": "e0a04236",
   "metadata": {},
   "outputs": [
    {
     "data": {
      "text/plain": [
       "(3,)"
      ]
     },
     "execution_count": 12,
     "metadata": {},
     "output_type": "execute_result"
    }
   ],
   "source": [
    "import numpy as np\n",
    "\n",
    "list_1 = [1,2,3]\n",
    "x = np.array(list_1)      #Array => 배열을 만들어준다\n",
    "\n",
    "x.mean()                  #배열의 평균값 \n",
    "np.mean(x)\n",
    "x.shape"
   ]
  },
  {
   "cell_type": "markdown",
   "id": "abd8c0bc",
   "metadata": {},
   "source": [
    "#### array() : 배열의 원소를 입력할 때는 반드시.. 리스트 형식으로 입력?"
   ]
  },
  {
   "cell_type": "code",
   "execution_count": 16,
   "id": "dfa73737",
   "metadata": {},
   "outputs": [
    {
     "name": "stdout",
     "output_type": "stream",
     "text": [
      "[1 2 3] [1 2 3] {1, 2, 3} {'a': 'b', 'c': 'a'}\n"
     ]
    }
   ],
   "source": [
    "x = np.array([1,2,3])\n",
    "y = np.array((1,2,3))\n",
    "z = np.array({1,2,3})\n",
    "a = np.array({'a':'b','c':'d','c':'a'}) #같은 키값이 있으면 1개의 값만 출력된다.\n",
    "\n",
    "print(x,y,z,a)\n",
    "\n",
    "#리스트와 튜플형태만 배열로 출력된다."
   ]
  },
  {
   "cell_type": "markdown",
   "id": "7789f0dd",
   "metadata": {},
   "source": [
    "#### reshape():  배열을 원하는 모양으로 생성"
   ]
  },
  {
   "cell_type": "code",
   "execution_count": 30,
   "id": "e20800de",
   "metadata": {},
   "outputs": [
    {
     "name": "stdout",
     "output_type": "stream",
     "text": [
      "[[1 2 3 4]\n",
      " [5 6 7 8]] (2, 4)\n"
     ]
    }
   ],
   "source": [
    "import numpy as np\n",
    "\n",
    "a = [1,2,3,4,5,6,7,8]\n",
    "b = np.reshape(a,(2,4))\n",
    "# a리스트를 2행 4열로 재배열한다.\n",
    "\n",
    "               \n",
    "print(b, b.shape)"
   ]
  },
  {
   "cell_type": "markdown",
   "id": "dbd6c7cc",
   "metadata": {},
   "source": [
    "#### reshape() : 3차원 변환"
   ]
  },
  {
   "cell_type": "code",
   "execution_count": 32,
   "id": "8202ca14",
   "metadata": {},
   "outputs": [
    {
     "name": "stdout",
     "output_type": "stream",
     "text": [
      "[1 2 3 4 5 6 7 8]\n",
      "[[[1 2]\n",
      "  [3 4]]\n",
      "\n",
      " [[5 6]\n",
      "  [7 8]]]\n"
     ]
    }
   ],
   "source": [
    "a = np.arange(1,9)       #1부터 9-1까지 출력된다.\n",
    "print(a)\n",
    "b = a.reshape(2,2,2)\n",
    "print(b)\n",
    "\n",
    "#reshape를 활용하는 경우를 보다 보면 입력인수로 -1이 들어간 경우가 종종 있다.\n",
    "# reshape()의 ‘-1’이 의미하는 바는,\n",
    "# 변경된 배열의 ‘-1’ 위치의 차원은 “원래 배열의 길이와 남은 차원으로 부터 추정”이 된다는 뜻이다."
   ]
  },
  {
   "cell_type": "code",
   "execution_count": 34,
   "id": "b5f4375e",
   "metadata": {},
   "outputs": [
    {
     "name": "stdout",
     "output_type": "stream",
     "text": [
      "[1 2 3 4 5 6 7 8]\n"
     ]
    },
    {
     "ename": "ValueError",
     "evalue": "cannot reshape array of size 8 into shape (4,2,2)",
     "output_type": "error",
     "traceback": [
      "\u001b[1;31m---------------------------------------------------------------------------\u001b[0m",
      "\u001b[1;31mValueError\u001b[0m                                Traceback (most recent call last)",
      "\u001b[1;32m<ipython-input-34-29b3930b10ce>\u001b[0m in \u001b[0;36m<module>\u001b[1;34m\u001b[0m\n\u001b[0;32m      1\u001b[0m \u001b[0ma\u001b[0m \u001b[1;33m=\u001b[0m \u001b[0mnp\u001b[0m\u001b[1;33m.\u001b[0m\u001b[0marange\u001b[0m\u001b[1;33m(\u001b[0m\u001b[1;36m1\u001b[0m\u001b[1;33m,\u001b[0m\u001b[1;36m9\u001b[0m\u001b[1;33m)\u001b[0m       \u001b[1;31m#1부터 9-1까지 출력된다.\u001b[0m\u001b[1;33m\u001b[0m\u001b[1;33m\u001b[0m\u001b[0m\n\u001b[0;32m      2\u001b[0m \u001b[0mprint\u001b[0m\u001b[1;33m(\u001b[0m\u001b[0ma\u001b[0m\u001b[1;33m)\u001b[0m\u001b[1;33m\u001b[0m\u001b[1;33m\u001b[0m\u001b[0m\n\u001b[1;32m----> 3\u001b[1;33m \u001b[0mb\u001b[0m \u001b[1;33m=\u001b[0m \u001b[0ma\u001b[0m\u001b[1;33m.\u001b[0m\u001b[0mreshape\u001b[0m\u001b[1;33m(\u001b[0m\u001b[1;36m4\u001b[0m\u001b[1;33m,\u001b[0m\u001b[1;36m2\u001b[0m\u001b[1;33m,\u001b[0m\u001b[1;36m2\u001b[0m\u001b[1;33m)\u001b[0m\u001b[1;33m\u001b[0m\u001b[1;33m\u001b[0m\u001b[0m\n\u001b[0m\u001b[0;32m      4\u001b[0m \u001b[0mprint\u001b[0m\u001b[1;33m(\u001b[0m\u001b[0mb\u001b[0m\u001b[1;33m)\u001b[0m\u001b[1;33m\u001b[0m\u001b[1;33m\u001b[0m\u001b[0m\n",
      "\u001b[1;31mValueError\u001b[0m: cannot reshape array of size 8 into shape (4,2,2)"
     ]
    }
   ],
   "source": [
    "# a = np.arange(1,9)       #1부터 9-1까지 출력된다.\n",
    "# print(a)\n",
    "# b = a.reshape(4,2,2)\n",
    "# print(b)"
   ]
  },
  {
   "cell_type": "code",
   "execution_count": 35,
   "id": "c5b3648b",
   "metadata": {},
   "outputs": [
    {
     "name": "stdout",
     "output_type": "stream",
     "text": [
      "[[ 0  1  2  3]\n",
      " [ 4  5  6  7]\n",
      " [ 8  9 10 11]]\n"
     ]
    }
   ],
   "source": [
    "x = np.arange(12)\n",
    "x = x.reshape(3,4)\n",
    "\n",
    "print(x)"
   ]
  },
  {
   "cell_type": "code",
   "execution_count": 36,
   "id": "e8662fba",
   "metadata": {},
   "outputs": [
    {
     "data": {
      "text/plain": [
       "array([[ 0],\n",
       "       [ 1],\n",
       "       [ 2],\n",
       "       [ 3],\n",
       "       [ 4],\n",
       "       [ 5],\n",
       "       [ 6],\n",
       "       [ 7],\n",
       "       [ 8],\n",
       "       [ 9],\n",
       "       [10],\n",
       "       [11]])"
      ]
     },
     "execution_count": 36,
     "metadata": {},
     "output_type": "execute_result"
    }
   ],
   "source": [
    "x.reshape(-1,1)"
   ]
  },
  {
   "cell_type": "code",
   "execution_count": 37,
   "id": "7dc3d4a1",
   "metadata": {},
   "outputs": [
    {
     "data": {
      "text/plain": [
       "array([[ 0,  1],\n",
       "       [ 2,  3],\n",
       "       [ 4,  5],\n",
       "       [ 6,  7],\n",
       "       [ 8,  9],\n",
       "       [10, 11]])"
      ]
     },
     "execution_count": 37,
     "metadata": {},
     "output_type": "execute_result"
    }
   ],
   "source": [
    "x.reshape(-1,2)"
   ]
  },
  {
   "cell_type": "code",
   "execution_count": 38,
   "id": "50f2f0c3",
   "metadata": {},
   "outputs": [
    {
     "data": {
      "text/plain": [
       "array([[ 0,  1,  2],\n",
       "       [ 3,  4,  5],\n",
       "       [ 6,  7,  8],\n",
       "       [ 9, 10, 11]])"
      ]
     },
     "execution_count": 38,
     "metadata": {},
     "output_type": "execute_result"
    }
   ],
   "source": [
    "x.reshape(-1,3)"
   ]
  },
  {
   "cell_type": "markdown",
   "id": "680b4bde",
   "metadata": {},
   "source": [
    "##### 행(row)의 위치에 -1을 넣고 열의 값을 지정해주면 변환될 배열의 행의 수는 알아서 지정이 된다는 소리이다."
   ]
  },
  {
   "cell_type": "markdown",
   "id": "17acbc77",
   "metadata": {},
   "source": [
    "#### ones(): 배열의 1의 값들로 채움"
   ]
  },
  {
   "cell_type": "code",
   "execution_count": 41,
   "id": "26805357",
   "metadata": {},
   "outputs": [
    {
     "name": "stdout",
     "output_type": "stream",
     "text": [
      "[[1. 1. 1. 1.]\n",
      " [1. 1. 1. 1.]\n",
      " [1. 1. 1. 1.]]\n"
     ]
    }
   ],
   "source": [
    "y = np.ones([3,4])\n",
    "print(y)           #3행4열의 배열을 1로 채워서 만듦"
   ]
  },
  {
   "cell_type": "code",
   "execution_count": 42,
   "id": "92ecc9ac",
   "metadata": {},
   "outputs": [
    {
     "name": "stdout",
     "output_type": "stream",
     "text": [
      "[[2. 2. 2. 2.]\n",
      " [2. 2. 2. 2.]\n",
      " [2. 2. 2. 2.]]\n"
     ]
    }
   ],
   "source": [
    "# 응용 : 다른 값으로 충분히 응용이 가능하다.\n",
    "\n",
    "y = np.ones([3,4])\n",
    "z = y * 2\n",
    "print(z)"
   ]
  },
  {
   "cell_type": "markdown",
   "id": "5f2cf1f2",
   "metadata": {},
   "source": [
    "#### Numpy의 슬라이싱"
   ]
  },
  {
   "cell_type": "code",
   "execution_count": 44,
   "id": "dcaa16db",
   "metadata": {},
   "outputs": [
    {
     "name": "stdout",
     "output_type": "stream",
     "text": [
      "[2, 12]\n"
     ]
    },
    {
     "ename": "TypeError",
     "evalue": "list indices must be integers or slices, not tuple",
     "output_type": "error",
     "traceback": [
      "\u001b[1;31m---------------------------------------------------------------------------\u001b[0m",
      "\u001b[1;31mTypeError\u001b[0m                                 Traceback (most recent call last)",
      "\u001b[1;32m<ipython-input-44-879b46e83410>\u001b[0m in \u001b[0;36m<module>\u001b[1;34m\u001b[0m\n\u001b[0;32m      1\u001b[0m \u001b[0mlist1\u001b[0m \u001b[1;33m=\u001b[0m \u001b[1;33m[\u001b[0m\u001b[1;33m[\u001b[0m\u001b[1;36m1\u001b[0m\u001b[1;33m,\u001b[0m\u001b[1;36m11\u001b[0m\u001b[1;33m]\u001b[0m\u001b[1;33m,\u001b[0m\u001b[1;33m[\u001b[0m\u001b[1;36m2\u001b[0m\u001b[1;33m,\u001b[0m\u001b[1;36m12\u001b[0m\u001b[1;33m]\u001b[0m\u001b[1;33m,\u001b[0m\u001b[1;33m[\u001b[0m\u001b[1;36m3\u001b[0m\u001b[1;33m,\u001b[0m\u001b[1;36m13\u001b[0m\u001b[1;33m]\u001b[0m\u001b[1;33m,\u001b[0m\u001b[1;33m[\u001b[0m\u001b[1;36m4\u001b[0m\u001b[1;33m,\u001b[0m\u001b[1;36m14\u001b[0m\u001b[1;33m]\u001b[0m\u001b[1;33m]\u001b[0m\u001b[1;33m\u001b[0m\u001b[1;33m\u001b[0m\u001b[0m\n\u001b[0;32m      2\u001b[0m \u001b[0mprint\u001b[0m\u001b[1;33m(\u001b[0m\u001b[0mlist1\u001b[0m\u001b[1;33m[\u001b[0m\u001b[1;33m:\u001b[0m\u001b[1;33m]\u001b[0m\u001b[1;33m[\u001b[0m\u001b[1;36m1\u001b[0m\u001b[1;33m]\u001b[0m\u001b[1;33m)\u001b[0m\u001b[1;33m\u001b[0m\u001b[1;33m\u001b[0m\u001b[0m\n\u001b[1;32m----> 3\u001b[1;33m \u001b[0mprint\u001b[0m\u001b[1;33m(\u001b[0m\u001b[0mlist1\u001b[0m\u001b[1;33m[\u001b[0m\u001b[1;33m:\u001b[0m\u001b[1;33m,\u001b[0m \u001b[1;36m1\u001b[0m\u001b[1;33m]\u001b[0m\u001b[1;33m)\u001b[0m\u001b[1;33m\u001b[0m\u001b[1;33m\u001b[0m\u001b[0m\n\u001b[0m",
      "\u001b[1;31mTypeError\u001b[0m: list indices must be integers or slices, not tuple"
     ]
    }
   ],
   "source": [
    "list1 = [[1,11],[2,12],[3,13],[4,14]]\n",
    "print(list1[:][1])\n",
    "print(list1[:, 1])   # list일뿐 아직 배열은 아니라 오류 발생한다."
   ]
  },
  {
   "cell_type": "code",
   "execution_count": 54,
   "id": "e98a2d79",
   "metadata": {},
   "outputs": [
    {
     "name": "stdout",
     "output_type": "stream",
     "text": [
      "[[ 1 11]\n",
      " [ 2 12]\n",
      " [ 3 13]\n",
      " [ 4 14]]\n",
      "[[ 1 11]\n",
      " [ 2 12]\n",
      " [ 3 13]\n",
      " [ 4 14]] [1]\n",
      "[11 12 13 14]\n",
      "12\n",
      "1\n",
      "[[ 1 11]\n",
      " [ 2 12]]\n"
     ]
    }
   ],
   "source": [
    "list1 = [[1,11],[2,12],[3,13],[4,14]]\n",
    "arr = np.array(list1)\n",
    "print(arr)         #4행2열\n",
    "\n",
    "print(arr [:],[1])\n",
    "print(arr[:, 1])      #   \n",
    "print(arr[1, 1])      #2행의 2열 출력\n",
    "print(arr[0, 0])      #1행의 1열 출력\n",
    "print(arr[:2, :2])    #2행 2열까지 출력"
   ]
  },
  {
   "cell_type": "markdown",
   "id": "636d64f1",
   "metadata": {},
   "source": [
    "#### math모듈의 sqrt()와 Numpy모듈의 sqrt()비교 // sqrt = 루트...."
   ]
  },
  {
   "cell_type": "code",
   "execution_count": 58,
   "id": "35205107",
   "metadata": {},
   "outputs": [
    {
     "ename": "TypeError",
     "evalue": "must be real number, not list",
     "output_type": "error",
     "traceback": [
      "\u001b[1;31m---------------------------------------------------------------------------\u001b[0m",
      "\u001b[1;31mTypeError\u001b[0m                                 Traceback (most recent call last)",
      "\u001b[1;32m<ipython-input-58-a371fd607665>\u001b[0m in \u001b[0;36m<module>\u001b[1;34m\u001b[0m\n\u001b[0;32m      1\u001b[0m \u001b[1;32mimport\u001b[0m \u001b[0mmath\u001b[0m\u001b[1;33m\u001b[0m\u001b[1;33m\u001b[0m\u001b[0m\n\u001b[0;32m      2\u001b[0m \u001b[0mmath\u001b[0m\u001b[1;33m.\u001b[0m\u001b[0msqrt\u001b[0m\u001b[1;33m(\u001b[0m\u001b[1;36m2\u001b[0m\u001b[1;33m)\u001b[0m\u001b[1;33m\u001b[0m\u001b[1;33m\u001b[0m\u001b[0m\n\u001b[1;32m----> 3\u001b[1;33m \u001b[0mmath\u001b[0m\u001b[1;33m.\u001b[0m\u001b[0msqrt\u001b[0m\u001b[1;33m(\u001b[0m\u001b[1;33m[\u001b[0m\u001b[1;36m2\u001b[0m\u001b[1;33m,\u001b[0m\u001b[1;36m3\u001b[0m\u001b[1;33m,\u001b[0m\u001b[1;36m4\u001b[0m\u001b[1;33m]\u001b[0m\u001b[1;33m)\u001b[0m\u001b[1;33m\u001b[0m\u001b[1;33m\u001b[0m\u001b[0m\n\u001b[0m",
      "\u001b[1;31mTypeError\u001b[0m: must be real number, not list"
     ]
    }
   ],
   "source": [
    "import math\n",
    "math.sqrt(2)\n",
    "math.sqrt([2,3,4])    #리스트 각각의 루트값 출력이 불가능하다. = 오류값 출력오류값 출력"
   ]
  },
  {
   "cell_type": "code",
   "execution_count": 60,
   "id": "c9e1e610",
   "metadata": {},
   "outputs": [
    {
     "name": "stdout",
     "output_type": "stream",
     "text": [
      "1.4142135623730951\n",
      "[1.41421356 1.73205081 2.        ]\n"
     ]
    }
   ],
   "source": [
    "import numpy\n",
    "print(numpy.sqrt(2))      #훨씬 더 많은 기능이 있다.\n",
    "print(numpy.sqrt([2,3,4]))   #각각의 배열의 루트값 출력이 가능하다."
   ]
  },
  {
   "cell_type": "markdown",
   "id": "70137c87",
   "metadata": {},
   "source": [
    "#### 배열 행,열을 변경하기 // 응용편"
   ]
  },
  {
   "cell_type": "code",
   "execution_count": 62,
   "id": "a56ab086",
   "metadata": {},
   "outputs": [
    {
     "name": "stdout",
     "output_type": "stream",
     "text": [
      "[0. 0. 0. 0. 0. 0. 0. 0. 0. 0. 0. 0. 0. 0. 0.]\n"
     ]
    }
   ],
   "source": [
    "import numpy as np\n",
    "\n",
    "x = np.zeros(15)\n",
    "print(x)"
   ]
  },
  {
   "cell_type": "code",
   "execution_count": 66,
   "id": "caee0615",
   "metadata": {},
   "outputs": [
    {
     "name": "stdout",
     "output_type": "stream",
     "text": [
      "[[0. 0. 0.]\n",
      " [0. 0. 0.]\n",
      " [0. 0. 0.]\n",
      " [0. 0. 0.]\n",
      " [0. 0. 0.]]\n"
     ]
    }
   ],
   "source": [
    "import numpy as np\n",
    "\n",
    "y = np.zeros([5,3])\n",
    "print(y)           \n",
    "\n",
    "#배열 지정"
   ]
  },
  {
   "cell_type": "code",
   "execution_count": 67,
   "id": "8b202f39",
   "metadata": {},
   "outputs": [
    {
     "name": "stdout",
     "output_type": "stream",
     "text": [
      "[[0. 0. 0. 0. 0.]\n",
      " [0. 0. 0. 0. 0.]\n",
      " [0. 0. 0. 0. 0.]]\n"
     ]
    }
   ],
   "source": [
    "x = np.zeros(15)\n",
    "y = np.zeros([5,3])\n",
    "\n",
    "z = y.reshape([3,5])\n",
    "\n",
    "print(z)\n",
    "\n",
    "#배열 변경"
   ]
  },
  {
   "cell_type": "code",
   "execution_count": 68,
   "id": "44e3e808",
   "metadata": {},
   "outputs": [
    {
     "name": "stdout",
     "output_type": "stream",
     "text": [
      "[[4. 4. 4.]\n",
      " [4. 4. 4.]\n",
      " [4. 4. 4.]\n",
      " [4. 4. 4.]\n",
      " [4. 4. 4.]]\n"
     ]
    }
   ],
   "source": [
    "y = np.zeros([5,3])\n",
    "z = y + 4\n",
    "print(z)\n",
    "\n",
    "#초기값 변경"
   ]
  },
  {
   "cell_type": "markdown",
   "id": "3bc32f4b",
   "metadata": {},
   "source": [
    "### 전치행렬\n",
    "#### transpose()"
   ]
  },
  {
   "cell_type": "code",
   "execution_count": 71,
   "id": "5e2bbcb3",
   "metadata": {},
   "outputs": [
    {
     "name": "stdout",
     "output_type": "stream",
     "text": [
      "[[1 2]\n",
      " [3 4]]\n",
      "\n",
      "\n",
      "\n",
      "\n",
      "[[1 3]\n",
      " [2 4]]\n"
     ]
    }
   ],
   "source": [
    "import numpy as np\n",
    "\n",
    "ary = np.array([[1,2],[3,4]])   # ([[],[]]) 형식\n",
    "print(ary)\n",
    "\n",
    "print('\\n\\n\\n')\n",
    "\n",
    "trans_ary = ary.transpose()\n",
    "print(trans_ary)                #행과열의 변경한다.행->열 , 열->행"
   ]
  },
  {
   "cell_type": "code",
   "execution_count": 72,
   "id": "79237f7f",
   "metadata": {},
   "outputs": [
    {
     "name": "stdout",
     "output_type": "stream",
     "text": [
      "[[1 2 5]\n",
      " [3 4 6]]\n",
      "\n",
      "\n",
      "\n",
      "\n",
      "[[1 3]\n",
      " [2 4]\n",
      " [5 6]]\n"
     ]
    }
   ],
   "source": [
    "ary = np.array([[1,2,5],[3,4,6]])\n",
    "print(ary)\n",
    "\n",
    "print('\\n\\n\\n')\n",
    "\n",
    "trans_ary = ary.transpose()\n",
    "print(trans_ary)                #행과열의 변경한다 // 열->행, 행->열 "
   ]
  },
  {
   "cell_type": "markdown",
   "id": "cff1b15d",
   "metadata": {},
   "source": [
    "##### 2개 배열에 대한 연산\n",
    "##### 2개 배열에 저장된 내용을 인덱스별로 계산\n",
    "##### 선형대수학의 사칙연산과 동일하게 작동 / 곱셈도 같은 원리로 작동"
   ]
  },
  {
   "cell_type": "code",
   "execution_count": 78,
   "id": "125357be",
   "metadata": {},
   "outputs": [
    {
     "name": "stdout",
     "output_type": "stream",
     "text": [
      "[4 6 8]\n",
      "\n",
      "\n",
      "[ 3  8 15]\n",
      "\n",
      "\n",
      "[3.         2.         1.66666667]\n",
      "\n",
      "\n",
      "[0 0 2]\n",
      "[  3  16 125]\n"
     ]
    }
   ],
   "source": [
    "import numpy as np\n",
    "\n",
    "x = np.array((3,4,5))\n",
    "y = np.array((1,2,3))\n",
    "\n",
    "print(x+y)                #행과열이 같아야만 사칙연산이 가능하다.\n",
    "                          # 각각의 원소끼리 대응한다.\n",
    "print('\\n')    \n",
    "print(x*y) # 곱하기\n",
    "\n",
    "print('\\n')  \n",
    "print(x/y) # 나누기\n",
    "\n",
    "print('\\n')  \n",
    "print(x%y) # 나머지\n",
    "\n",
    "print('\\n')  \n",
    "print(x**y) # x의 값을 y의 수만큼 제곱해라"
   ]
  },
  {
   "cell_type": "code",
   "execution_count": 79,
   "id": "71f62286",
   "metadata": {},
   "outputs": [
    {
     "name": "stdout",
     "output_type": "stream",
     "text": [
      "[ 243 1024 3125]\n"
     ]
    }
   ],
   "source": [
    "x = np.array((3,4,5))\n",
    "x **= 5\n",
    "\n",
    "print(x)"
   ]
  },
  {
   "cell_type": "code",
   "execution_count": 80,
   "id": "67b061af",
   "metadata": {},
   "outputs": [
    {
     "name": "stdout",
     "output_type": "stream",
     "text": [
      "[ 8  9 10]\n"
     ]
    }
   ],
   "source": [
    "x = np.array((3,4,5))\n",
    "x += 5\n",
    "\n",
    "print(x)"
   ]
  },
  {
   "cell_type": "markdown",
   "id": "efa7215e",
   "metadata": {},
   "source": [
    "#### 인덱싱"
   ]
  },
  {
   "cell_type": "code",
   "execution_count": 81,
   "id": "14eb1477",
   "metadata": {},
   "outputs": [
    {
     "name": "stdout",
     "output_type": "stream",
     "text": [
      "[4 5 6]\n",
      "[2 5 8]\n"
     ]
    }
   ],
   "source": [
    "x = np.array([[1,2,3],[4,5,6],[7,8,9]])\n",
    "\n",
    "print(x[1])                   # [4,5,6] -> x배열의 인덱스 1번 내용을 출력 = 2행 출력\n",
    "print(x[:, 1])                # [2,5,8] -> 각 1차원 배열의 1번 내용을 출력 = 2열 출력"
   ]
  },
  {
   "cell_type": "markdown",
   "id": "635ac809",
   "metadata": {},
   "source": [
    "#### 2개의 Numpy배열 간의 계산"
   ]
  },
  {
   "cell_type": "code",
   "execution_count": 85,
   "id": "c665b28e",
   "metadata": {},
   "outputs": [
    {
     "name": "stdout",
     "output_type": "stream",
     "text": [
      "[ 9 11 13]\n"
     ]
    }
   ],
   "source": [
    "x = np.array([[1,2,3],[4,5,6],[7,8,9]])\n",
    "y = np.array([[2,3,4],[5,6,7],[8,9,10]])\n",
    "\n",
    "print(x[0] + y[2])"
   ]
  },
  {
   "cell_type": "code",
   "execution_count": 88,
   "id": "2dd57a9e",
   "metadata": {},
   "outputs": [
    {
     "name": "stdout",
     "output_type": "stream",
     "text": [
      "[16 45 80]\n"
     ]
    }
   ],
   "source": [
    "x = np.array([[1,2,3],[4,5,6],[7,8,9]])\n",
    "y = np.array([[2,3,4],[5,6,7],[8,9,10]])\n",
    "\n",
    "print(x[:,1]*y[2])        # x배열의 2번째 열들을 y행의 3번째 열과 매칭하여 곱하기"
   ]
  },
  {
   "cell_type": "markdown",
   "id": "2060defb",
   "metadata": {},
   "source": [
    "#### 불린 검사"
   ]
  },
  {
   "cell_type": "code",
   "execution_count": 2,
   "id": "1af6de97",
   "metadata": {},
   "outputs": [
    {
     "name": "stdout",
     "output_type": "stream",
     "text": [
      "[False False False  True  True]\n"
     ]
    }
   ],
   "source": [
    "import numpy as np\n",
    "a = np.array([10, 20, 30, 40, 60])\n",
    "b = a > 30\n",
    "\n",
    "print(b)"
   ]
  },
  {
   "cell_type": "markdown",
   "id": "a0c64397",
   "metadata": {},
   "source": [
    "#### numpy random"
   ]
  },
  {
   "cell_type": "code",
   "execution_count": 7,
   "id": "7205fdf5",
   "metadata": {},
   "outputs": [
    {
     "name": "stdout",
     "output_type": "stream",
     "text": [
      "[0.40257072 0.83586478 0.55439181 0.92638751 0.86605235]\n"
     ]
    }
   ],
   "source": [
    "import numpy as np\n",
    "\n",
    "ary = np.random.random(5)\n",
    "print(ary)\n",
    "\n",
    "# 실행시 매번 다른 값을 출력한다."
   ]
  },
  {
   "cell_type": "code",
   "execution_count": 11,
   "id": "6a2a6074",
   "metadata": {},
   "outputs": [
    {
     "name": "stdout",
     "output_type": "stream",
     "text": [
      "[[0.87593333 0.4450384  0.83922733]\n",
      " [0.77340118 0.89295173 0.61958708]] (2, 3) \n",
      "\n",
      "[[[0.38637848 0.59380519 0.90871378]\n",
      "  [0.86242716 0.98792188 0.01272954]]\n",
      "\n",
      " [[0.80046923 0.64936623 0.10119131]\n",
      "  [0.67423342 0.45987762 0.29061776]]] (2, 2, 3) \n",
      "\n"
     ]
    }
   ],
   "source": [
    "import numpy as np\n",
    "\n",
    "b = np.random.rand(2, 3)\n",
    "print(b, b.shape, '\\n')\n",
    "\n",
    "# rand -> 지정한 배열의 랜덤한 값을 출력한다.\n",
    "\n",
    "b = np.random.rand(2, 2, 3)\n",
    "print(b, b.shape, '\\n')\n",
    "\n",
    "# (출력할 수 , 행, 열)\n",
    "\n",
    "# 만들어진 난수 어레이는 주어진 값에 의해 결정되며\n",
    "# (0, 1) 범위에서 균일한 분포를 갖습니다."
   ]
  },
  {
   "cell_type": "code",
   "execution_count": 12,
   "id": "29891008",
   "metadata": {},
   "outputs": [
    {
     "name": "stdout",
     "output_type": "stream",
     "text": [
      "[1 0 0 1 0]\n",
      "[3 2 3 2 2]\n",
      "[[1 2 2]\n",
      " [1 1 4]]\n"
     ]
    }
   ],
   "source": [
    "import numpy as np\n",
    "\n",
    "a = np.random.randint(2, size=5)\n",
    "print(a)\n",
    "#( 0 ~ X 숫자 사이의 수, 몇 개 출력해라)\n",
    "\n",
    "b = np.random.randint(2, 4, size=5)\n",
    "print(b)\n",
    "# (2~4 범위에서 5개의 정수를 출력해라)\n",
    "\n",
    "c = np.random.randint(1, 5, size=(2, 3))\n",
    "print(c)\n",
    "# (1, 5 범위에서 (2, 3) 형태의 배열을 생성합니다."
   ]
  },
  {
   "cell_type": "code",
   "execution_count": 22,
   "id": "05b3083c",
   "metadata": {},
   "outputs": [
    {
     "name": "stdout",
     "output_type": "stream",
     "text": [
      "[[0.5488135  0.71518937 0.60276338]\n",
      " [0.54488318 0.4236548  0.64589411]]\n"
     ]
    }
   ],
   "source": [
    "import numpy as np\n",
    "\n",
    "np.random.seed(0)\n",
    "\n",
    "print(np.random.rand(2,3))\n",
    "\n",
    "# seed => 한 번 출력된 랜덤한 값을 고정시킨다.  (Ctrl + Enter로 확인 가능)"
   ]
  },
  {
   "cell_type": "code",
   "execution_count": 24,
   "id": "0d2b34f1",
   "metadata": {},
   "outputs": [
    {
     "name": "stdout",
     "output_type": "stream",
     "text": [
      "[[ True  True  True]\n",
      " [ True  True  True]]\n"
     ]
    }
   ],
   "source": [
    "import numpy as np\n",
    "\n",
    "np.random.seed(0)\n",
    "a = np.random.rand(2,3)\n",
    "\n",
    "\n",
    "print(a>0.12)\n",
    "\n",
    "#Ctrl + Enter로 확인 가능"
   ]
  },
  {
   "cell_type": "markdown",
   "id": "e0588ec4",
   "metadata": {},
   "source": [
    "#### any()와 all()의 비교"
   ]
  },
  {
   "cell_type": "code",
   "execution_count": 31,
   "id": "a1fe9756",
   "metadata": {},
   "outputs": [
    {
     "name": "stdout",
     "output_type": "stream",
     "text": [
      "[0.77423369 0.45615033 0.56843395 0.0187898  0.6176355 ]\n",
      "[ True  True  True False  True]\n",
      "False\n"
     ]
    }
   ],
   "source": [
    "import numpy as np\n",
    "\n",
    "a = np.random.rand(5)\n",
    "print(a)\n",
    "print(a>0.12)\n",
    "print(np.all(a>0.12))\n",
    "\n",
    "# 모든 불린값이 True여야지 True"
   ]
  },
  {
   "cell_type": "code",
   "execution_count": 30,
   "id": "6e9de993",
   "metadata": {},
   "outputs": [
    {
     "name": "stdout",
     "output_type": "stream",
     "text": [
      "[0.14335329 0.94466892 0.52184832 0.41466194 0.26455561]\n",
      "[False  True False False False]\n",
      "True\n"
     ]
    }
   ],
   "source": [
    "import numpy as np\n",
    "\n",
    "a = np.random.rand(5)\n",
    "print(a)\n",
    "print(a>0.9)\n",
    "print(np.any(a>0.9))\n",
    "\n",
    "# 하나의 불린값만 True여도 True"
   ]
  },
  {
   "cell_type": "markdown",
   "id": "63234692",
   "metadata": {},
   "source": [
    "#### linspace"
   ]
  },
  {
   "cell_type": "code",
   "execution_count": 36,
   "id": "04431fd0",
   "metadata": {},
   "outputs": [
    {
     "name": "stdout",
     "output_type": "stream",
     "text": [
      "[ 0.  4.  8. 12.]\n",
      "[ 1.  4.  7. 10. 13.]\n",
      "[ 2.   4.5  7.   9.5 12. ]\n"
     ]
    }
   ],
   "source": [
    "import numpy as np\n",
    "\n",
    "a = np.linspace(0, 12, 4)\n",
    "b = np.linspace(1, 13, 5)\n",
    "c = np.linspace(2, 12, 5)\n",
    "\n",
    "print(a)\n",
    "print(b)\n",
    "print(c)\n",
    "\n",
    "# 시작과 끝의 값을 지정하고 그 사이의 값을 균등하게 배분한다. -> array(배열)로 나옴\n",
    "# print(a) = 0과 12를 포함한 그 사이의 값들을 선형적으로 분배, 모두 4개의 원소를 갖는 배열"
   ]
  },
  {
   "cell_type": "code",
   "execution_count": 37,
   "id": "4f48ed78",
   "metadata": {},
   "outputs": [
    {
     "name": "stdout",
     "output_type": "stream",
     "text": [
      "[0. 3. 6. 9.]\n"
     ]
    }
   ],
   "source": [
    "import numpy as np\n",
    "\n",
    "np.linspace(0, 12, 4, endpoint = False)\n",
    "\n",
    "# endpoint = False => 마지막 값을 제외하고 샘플값을 출력\n",
    "# 디폴트 -> True"
   ]
  },
  {
   "cell_type": "code",
   "execution_count": 39,
   "id": "cdf92f37",
   "metadata": {},
   "outputs": [
    {
     "data": {
      "text/plain": [
       "(array([ 0.,  4.,  8., 12.]), 4.0)"
      ]
     },
     "execution_count": 39,
     "metadata": {},
     "output_type": "execute_result"
    }
   ],
   "source": [
    "import numpy as np\n",
    "\n",
    "np.linspace(0, 12, 4, retstep = True)\n",
    "# 배열 간 간격도 나온다."
   ]
  },
  {
   "cell_type": "code",
   "execution_count": null,
   "id": "59761aa2",
   "metadata": {},
   "outputs": [],
   "source": []
  }
 ],
 "metadata": {
  "kernelspec": {
   "display_name": "Python 3",
   "language": "python",
   "name": "python3"
  },
  "language_info": {
   "codemirror_mode": {
    "name": "ipython",
    "version": 3
   },
   "file_extension": ".py",
   "mimetype": "text/x-python",
   "name": "python",
   "nbconvert_exporter": "python",
   "pygments_lexer": "ipython3",
   "version": "3.8.9"
  }
 },
 "nbformat": 4,
 "nbformat_minor": 5
}
